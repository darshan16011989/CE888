{
  "cells": [
    {
      "cell_type": "markdown",
      "metadata": {
        "id": "view-in-github",
        "colab_type": "text"
      },
      "source": [
        "<a href=\"https://colab.research.google.com/github/darshan16011989/CE888/blob/main/Lab8_rnn_v1.ipynb\" target=\"_parent\"><img src=\"https://colab.research.google.com/assets/colab-badge.svg\" alt=\"Open In Colab\"/></a>"
      ]
    },
    {
      "cell_type": "markdown",
      "source": [
        "# Learning from Sequences: Timeseries and Text\n",
        "\n",
        "Created by Dr Ana Matran-Fernandez (amatra@essex.ac.uk) for CE888 (Data Science and Decision Making)\n",
        "\n",
        "This notebook accompanies lecture 8 and illustrates recurrent neural networks on an example of a timeseries (predicting tomorrow's temperature) and a classification problem on the IMDB text dataset."
      ],
      "metadata": {
        "id": "gS1IIAS-bcb-"
      }
    },
    {
      "cell_type": "markdown",
      "source": [
        "# Imports"
      ],
      "metadata": {
        "id": "0myiQp20cxRK"
      }
    },
    {
      "cell_type": "code",
      "source": [
        "#from google.colab import files\n",
        "#files.upload()"
      ],
      "metadata": {
        "id": "vU0uBhpW2cgU"
      },
      "execution_count": 63,
      "outputs": []
    },
    {
      "cell_type": "code",
      "execution_count": 64,
      "metadata": {
        "id": "1J0bYBQ7_a0L"
      },
      "outputs": [],
      "source": [
        "# imports\n",
        "import numpy as np\n",
        "import matplotlib.pyplot as plt\n",
        "import os\n",
        "import pandas as pd\n",
        "from sklearn.model_selection import train_test_split"
      ]
    },
    {
      "cell_type": "code",
      "execution_count": 65,
      "metadata": {
        "id": "U0NPDv7X_a0M"
      },
      "outputs": [],
      "source": [
        "# tensorflow imports\n",
        "from tensorflow import keras\n",
        "from keras import layers, models\n",
        "from keras.callbacks import EarlyStopping, ModelCheckpoint"
      ]
    },
    {
      "cell_type": "markdown",
      "source": [
        "# Timeseries"
      ],
      "metadata": {
        "id": "xaiw_VZjbtSH"
      }
    },
    {
      "cell_type": "code",
      "execution_count": 66,
      "metadata": {
        "colab": {
          "base_uri": "https://localhost:8080/",
          "height": 423
        },
        "id": "iA_R1Q-K_a0N",
        "outputId": "bb882bcd-a3c2-4aab-9873-04ba64260ce4"
      },
      "outputs": [
        {
          "output_type": "execute_result",
          "data": {
            "text/plain": [
              "                  date  radiation_avg  precip  wind_avg  wind_max  temp_avg  \\\n",
              "0     14/05/2014 00:00            159     0.0       1.4       3.3     14.27   \n",
              "1     15/05/2014 00:00            280     0.0       0.6       2.3     13.51   \n",
              "2     16/05/2014 00:00            186     3.4       0.8       2.7     15.65   \n",
              "3     17/05/2014 00:00            221     0.0       1.0       3.3     17.46   \n",
              "4     18/05/2014 00:00            255     0.0       2.1       5.5     16.85   \n",
              "...                ...            ...     ...       ...       ...       ...   \n",
              "2551  17/05/2021 00:00            196     1.4       2.2       5.5     10.51   \n",
              "2552  17/05/2021 00:00            173     2.8       1.8       5.5     10.80   \n",
              "2553  18/05/2021 00:00            311     0.0       1.4       5.0     10.29   \n",
              "2554  19/05/2021 00:00            232     6.6       1.8       5.5     11.39   \n",
              "2555  20/05/2021 00:00             44     0.0       0.5       2.7      6.35   \n",
              "\n",
              "      humidity_avg  \n",
              "0            64.95  \n",
              "1            72.91  \n",
              "2            74.69  \n",
              "3            71.42  \n",
              "4            74.45  \n",
              "...            ...  \n",
              "2551         99.86  \n",
              "2552         99.86  \n",
              "2553         92.94  \n",
              "2554         90.32  \n",
              "2555         99.86  \n",
              "\n",
              "[2556 rows x 7 columns]"
            ],
            "text/html": [
              "\n",
              "  <div id=\"df-b8a0de82-1e2f-4216-b0ac-ac7a189546ab\">\n",
              "    <div class=\"colab-df-container\">\n",
              "      <div>\n",
              "<style scoped>\n",
              "    .dataframe tbody tr th:only-of-type {\n",
              "        vertical-align: middle;\n",
              "    }\n",
              "\n",
              "    .dataframe tbody tr th {\n",
              "        vertical-align: top;\n",
              "    }\n",
              "\n",
              "    .dataframe thead th {\n",
              "        text-align: right;\n",
              "    }\n",
              "</style>\n",
              "<table border=\"1\" class=\"dataframe\">\n",
              "  <thead>\n",
              "    <tr style=\"text-align: right;\">\n",
              "      <th></th>\n",
              "      <th>date</th>\n",
              "      <th>radiation_avg</th>\n",
              "      <th>precip</th>\n",
              "      <th>wind_avg</th>\n",
              "      <th>wind_max</th>\n",
              "      <th>temp_avg</th>\n",
              "      <th>humidity_avg</th>\n",
              "    </tr>\n",
              "  </thead>\n",
              "  <tbody>\n",
              "    <tr>\n",
              "      <th>0</th>\n",
              "      <td>14/05/2014 00:00</td>\n",
              "      <td>159</td>\n",
              "      <td>0.0</td>\n",
              "      <td>1.4</td>\n",
              "      <td>3.3</td>\n",
              "      <td>14.27</td>\n",
              "      <td>64.95</td>\n",
              "    </tr>\n",
              "    <tr>\n",
              "      <th>1</th>\n",
              "      <td>15/05/2014 00:00</td>\n",
              "      <td>280</td>\n",
              "      <td>0.0</td>\n",
              "      <td>0.6</td>\n",
              "      <td>2.3</td>\n",
              "      <td>13.51</td>\n",
              "      <td>72.91</td>\n",
              "    </tr>\n",
              "    <tr>\n",
              "      <th>2</th>\n",
              "      <td>16/05/2014 00:00</td>\n",
              "      <td>186</td>\n",
              "      <td>3.4</td>\n",
              "      <td>0.8</td>\n",
              "      <td>2.7</td>\n",
              "      <td>15.65</td>\n",
              "      <td>74.69</td>\n",
              "    </tr>\n",
              "    <tr>\n",
              "      <th>3</th>\n",
              "      <td>17/05/2014 00:00</td>\n",
              "      <td>221</td>\n",
              "      <td>0.0</td>\n",
              "      <td>1.0</td>\n",
              "      <td>3.3</td>\n",
              "      <td>17.46</td>\n",
              "      <td>71.42</td>\n",
              "    </tr>\n",
              "    <tr>\n",
              "      <th>4</th>\n",
              "      <td>18/05/2014 00:00</td>\n",
              "      <td>255</td>\n",
              "      <td>0.0</td>\n",
              "      <td>2.1</td>\n",
              "      <td>5.5</td>\n",
              "      <td>16.85</td>\n",
              "      <td>74.45</td>\n",
              "    </tr>\n",
              "    <tr>\n",
              "      <th>...</th>\n",
              "      <td>...</td>\n",
              "      <td>...</td>\n",
              "      <td>...</td>\n",
              "      <td>...</td>\n",
              "      <td>...</td>\n",
              "      <td>...</td>\n",
              "      <td>...</td>\n",
              "    </tr>\n",
              "    <tr>\n",
              "      <th>2551</th>\n",
              "      <td>17/05/2021 00:00</td>\n",
              "      <td>196</td>\n",
              "      <td>1.4</td>\n",
              "      <td>2.2</td>\n",
              "      <td>5.5</td>\n",
              "      <td>10.51</td>\n",
              "      <td>99.86</td>\n",
              "    </tr>\n",
              "    <tr>\n",
              "      <th>2552</th>\n",
              "      <td>17/05/2021 00:00</td>\n",
              "      <td>173</td>\n",
              "      <td>2.8</td>\n",
              "      <td>1.8</td>\n",
              "      <td>5.5</td>\n",
              "      <td>10.80</td>\n",
              "      <td>99.86</td>\n",
              "    </tr>\n",
              "    <tr>\n",
              "      <th>2553</th>\n",
              "      <td>18/05/2021 00:00</td>\n",
              "      <td>311</td>\n",
              "      <td>0.0</td>\n",
              "      <td>1.4</td>\n",
              "      <td>5.0</td>\n",
              "      <td>10.29</td>\n",
              "      <td>92.94</td>\n",
              "    </tr>\n",
              "    <tr>\n",
              "      <th>2554</th>\n",
              "      <td>19/05/2021 00:00</td>\n",
              "      <td>232</td>\n",
              "      <td>6.6</td>\n",
              "      <td>1.8</td>\n",
              "      <td>5.5</td>\n",
              "      <td>11.39</td>\n",
              "      <td>90.32</td>\n",
              "    </tr>\n",
              "    <tr>\n",
              "      <th>2555</th>\n",
              "      <td>20/05/2021 00:00</td>\n",
              "      <td>44</td>\n",
              "      <td>0.0</td>\n",
              "      <td>0.5</td>\n",
              "      <td>2.7</td>\n",
              "      <td>6.35</td>\n",
              "      <td>99.86</td>\n",
              "    </tr>\n",
              "  </tbody>\n",
              "</table>\n",
              "<p>2556 rows × 7 columns</p>\n",
              "</div>\n",
              "      <button class=\"colab-df-convert\" onclick=\"convertToInteractive('df-b8a0de82-1e2f-4216-b0ac-ac7a189546ab')\"\n",
              "              title=\"Convert this dataframe to an interactive table.\"\n",
              "              style=\"display:none;\">\n",
              "        \n",
              "  <svg xmlns=\"http://www.w3.org/2000/svg\" height=\"24px\"viewBox=\"0 0 24 24\"\n",
              "       width=\"24px\">\n",
              "    <path d=\"M0 0h24v24H0V0z\" fill=\"none\"/>\n",
              "    <path d=\"M18.56 5.44l.94 2.06.94-2.06 2.06-.94-2.06-.94-.94-2.06-.94 2.06-2.06.94zm-11 1L8.5 8.5l.94-2.06 2.06-.94-2.06-.94L8.5 2.5l-.94 2.06-2.06.94zm10 10l.94 2.06.94-2.06 2.06-.94-2.06-.94-.94-2.06-.94 2.06-2.06.94z\"/><path d=\"M17.41 7.96l-1.37-1.37c-.4-.4-.92-.59-1.43-.59-.52 0-1.04.2-1.43.59L10.3 9.45l-7.72 7.72c-.78.78-.78 2.05 0 2.83L4 21.41c.39.39.9.59 1.41.59.51 0 1.02-.2 1.41-.59l7.78-7.78 2.81-2.81c.8-.78.8-2.07 0-2.86zM5.41 20L4 18.59l7.72-7.72 1.47 1.35L5.41 20z\"/>\n",
              "  </svg>\n",
              "      </button>\n",
              "      \n",
              "  <style>\n",
              "    .colab-df-container {\n",
              "      display:flex;\n",
              "      flex-wrap:wrap;\n",
              "      gap: 12px;\n",
              "    }\n",
              "\n",
              "    .colab-df-convert {\n",
              "      background-color: #E8F0FE;\n",
              "      border: none;\n",
              "      border-radius: 50%;\n",
              "      cursor: pointer;\n",
              "      display: none;\n",
              "      fill: #1967D2;\n",
              "      height: 32px;\n",
              "      padding: 0 0 0 0;\n",
              "      width: 32px;\n",
              "    }\n",
              "\n",
              "    .colab-df-convert:hover {\n",
              "      background-color: #E2EBFA;\n",
              "      box-shadow: 0px 1px 2px rgba(60, 64, 67, 0.3), 0px 1px 3px 1px rgba(60, 64, 67, 0.15);\n",
              "      fill: #174EA6;\n",
              "    }\n",
              "\n",
              "    [theme=dark] .colab-df-convert {\n",
              "      background-color: #3B4455;\n",
              "      fill: #D2E3FC;\n",
              "    }\n",
              "\n",
              "    [theme=dark] .colab-df-convert:hover {\n",
              "      background-color: #434B5C;\n",
              "      box-shadow: 0px 1px 3px 1px rgba(0, 0, 0, 0.15);\n",
              "      filter: drop-shadow(0px 1px 2px rgba(0, 0, 0, 0.3));\n",
              "      fill: #FFFFFF;\n",
              "    }\n",
              "  </style>\n",
              "\n",
              "      <script>\n",
              "        const buttonEl =\n",
              "          document.querySelector('#df-b8a0de82-1e2f-4216-b0ac-ac7a189546ab button.colab-df-convert');\n",
              "        buttonEl.style.display =\n",
              "          google.colab.kernel.accessAllowed ? 'block' : 'none';\n",
              "\n",
              "        async function convertToInteractive(key) {\n",
              "          const element = document.querySelector('#df-b8a0de82-1e2f-4216-b0ac-ac7a189546ab');\n",
              "          const dataTable =\n",
              "            await google.colab.kernel.invokeFunction('convertToInteractive',\n",
              "                                                     [key], {});\n",
              "          if (!dataTable) return;\n",
              "\n",
              "          const docLinkHtml = 'Like what you see? Visit the ' +\n",
              "            '<a target=\"_blank\" href=https://colab.research.google.com/notebooks/data_table.ipynb>data table notebook</a>'\n",
              "            + ' to learn more about interactive tables.';\n",
              "          element.innerHTML = '';\n",
              "          dataTable['output_type'] = 'display_data';\n",
              "          await google.colab.output.renderOutput(dataTable, element);\n",
              "          const docLink = document.createElement('div');\n",
              "          docLink.innerHTML = docLinkHtml;\n",
              "          element.appendChild(docLink);\n",
              "        }\n",
              "      </script>\n",
              "    </div>\n",
              "  </div>\n",
              "  "
            ]
          },
          "metadata": {},
          "execution_count": 66
        }
      ],
      "source": [
        "df = pd.read_csv('weather.csv')\n",
        "df.drop(['temp_max', 'temp_min'], axis=1, inplace=True)\n",
        "df"
      ]
    },
    {
      "cell_type": "code",
      "execution_count": 67,
      "metadata": {
        "colab": {
          "base_uri": "https://localhost:8080/",
          "height": 278
        },
        "id": "nzsytNAh_a0N",
        "outputId": "5715bc9d-820a-42ba-c48a-a554d80d3bd0"
      },
      "outputs": [
        {
          "output_type": "display_data",
          "data": {
            "text/plain": [
              "<Figure size 432x288 with 1 Axes>"
            ],
            "image/png": "[encoded data removed]"
          },
          "metadata": {
            "needs_background": "light"
          }
        }
      ],
      "source": [
        "plt.plot(range(len(df)), df['temp_avg'])\n",
        "plt.xlabel('Temporal range')\n",
        "plt.ylabel('Average temperature (C) (7 years)')\n",
        "plt.savefig('temperature_over_time.pdf', bbox_inches='tight')"
      ]
    },
    {
      "cell_type": "code",
      "execution_count": 68,
      "metadata": {
        "colab": {
          "base_uri": "https://localhost:8080/",
          "height": 278
        },
        "id": "ysbM2n99_a0N",
        "outputId": "3fa39b9d-64b2-4403-89dd-288de0b236ab"
      },
      "outputs": [
        {
          "output_type": "display_data",
          "data": {
            "text/plain": [
              "<Figure size 432x288 with 1 Axes>"
            ],
            "image/png": "[encoded data removed]"
          },
          "metadata": {
            "needs_background": "light"
          }
        }
      ],
      "source": [
        "# Look at the first 2 years\n",
        "length = 2*365\n",
        "plt.plot(range(length), df['temp_avg'][:length])\n",
        "plt.xlabel('Temporal range')\n",
        "plt.ylabel('Average temperature (C) (2 years)')\n",
        "plt.savefig('temperature_over_time_2y.pdf', bbox_inches='tight')"
      ]
    },
    {
      "cell_type": "markdown",
      "metadata": {
        "id": "ikyqi2m7_a0O"
      },
      "source": [
        "We have clear periodicity every year. In the previous plot we saw 7 cycles (7 years). Here we see 2.\n",
        "\n",
        "Always look for periodicity in your timeseries. There will always be daily and yearly cycles. Check these patterns.\n",
        "\n",
        "Another issue with timeseries is dividing the dataset into train/validation/test sets. We definitely cannot shuffle the data, and we need to be very careful with data leakage (using data from the future)."
      ]
    },
    {
      "cell_type": "markdown",
      "metadata": {
        "id": "1fxuW2ne_a0P"
      },
      "source": [
        "## Data prep\n",
        "\n",
        "We'll try to predict the average temperature of tomorrow based on data from the past.\n",
        "\n",
        "To avoid data leakage, we're going to use a simple approach: use the first 50% of data for training, the next 30% for validation, and the final 20% for testing.\n"
      ]
    },
    {
      "cell_type": "code",
      "execution_count": 69,
      "metadata": {
        "colab": {
          "base_uri": "https://localhost:8080/"
        },
        "id": "vofGsYen_a0P",
        "outputId": "c4ee5f91-4a14-47f0-8045-f157d615cb58"
      },
      "outputs": [
        {
          "output_type": "stream",
          "name": "stdout",
          "text": [
            "Samples for training: 1278; validation: 766; test: 512\n"
          ]
        }
      ],
      "source": [
        "n_tr, n_val = int(0.5*len(df)), int(0.3*len(df))\n",
        "n_te = len(df) - n_tr - n_val\n",
        "print('Samples for training: %d; validation: %d; test: %d' % (n_tr, n_val, n_te))"
      ]
    },
    {
      "cell_type": "code",
      "execution_count": 70,
      "metadata": {
        "colab": {
          "base_uri": "https://localhost:8080/"
        },
        "id": "lsMDT2Jq_a0P",
        "outputId": "582c9f43-3098-4acf-90e4-4f9e0d606fb7"
      },
      "outputs": [
        {
          "output_type": "stream",
          "name": "stdout",
          "text": [
            "(2556, 6)\n"
          ]
        }
      ],
      "source": [
        "# Get the data from the dataframe (dropping date column)\n",
        "data = df.iloc[:, 1:].values\n",
        "print(data.shape)\n",
        "assert data.shape[0] == len(df)\n",
        "assert data.shape[1] == len(df.columns)-1, \"Are you sure you're dropping the date?\"\n",
        "# We need to normalise our time series. Calculate mean and std from TRAINING DATA ONLY. \n",
        "# We'll use it on the validation and test sets.\n",
        "mean_tr = data[:n_tr, :].mean(axis=0)\n",
        "std_tr = data[:n_tr, :].std(axis=0)\n",
        "data = (data - mean_tr) / std_tr\n",
        "\n",
        "\n",
        "y = df['temp_avg'].values.reshape(-1, 1)\n",
        "\n",
        "# index of the column that contains the avg_temp\n",
        "y_idx = 4"
      ]
    },
    {
      "cell_type": "code",
      "source": [
        "data[:20, y_idx] * std_tr[y_idx] + mean_tr[y_idx]"
      ],
      "metadata": {
        "colab": {
          "base_uri": "https://localhost:8080/"
        },
        "id": "1VJAcdfICLi1",
        "outputId": "f83d256c-3bca-4a80-d3a1-846738a36bd7"
      },
      "execution_count": 71,
      "outputs": [
        {
          "output_type": "execute_result",
          "data": {
            "text/plain": [
              "array([14.27, 13.51, 15.65, 17.46, 16.85, 18.26, 17.35, 15.55, 14.52,\n",
              "       13.93, 11.48, 13.63, 12.81, 12.4 , 13.67, 14.15, 13.22, 12.21,\n",
              "       15.53, 14.52])"
            ]
          },
          "metadata": {},
          "execution_count": 71
        }
      ]
    },
    {
      "cell_type": "code",
      "source": [
        "y[5:25]"
      ],
      "metadata": {
        "colab": {
          "base_uri": "https://localhost:8080/"
        },
        "id": "xN-YJyEeCUv9",
        "outputId": "4d17fc30-140c-4062-dc1c-11c09d88dddf"
      },
      "execution_count": 72,
      "outputs": [
        {
          "output_type": "execute_result",
          "data": {
            "text/plain": [
              "array([[18.26],\n",
              "       [17.35],\n",
              "       [15.55],\n",
              "       [14.52],\n",
              "       [13.93],\n",
              "       [11.48],\n",
              "       [13.63],\n",
              "       [12.81],\n",
              "       [12.4 ],\n",
              "       [13.67],\n",
              "       [14.15],\n",
              "       [13.22],\n",
              "       [12.21],\n",
              "       [15.53],\n",
              "       [14.52],\n",
              "       [15.35],\n",
              "       [12.29],\n",
              "       [13.88],\n",
              "       [15.13],\n",
              "       [17.29]])"
            ]
          },
          "metadata": {},
          "execution_count": 72
        }
      ]
    },
    {
      "cell_type": "code",
      "execution_count": 73,
      "metadata": {
        "id": "K_JGeiAs_a0Q"
      },
      "outputs": [],
      "source": [
        "# We'll use a Dataset from keras to pass our data\n",
        "sampling_rate = 1  # we keep all data points\n",
        "sequence_length = 14  # 2 weeks to predict tomorrow's temperature\n",
        "delay = sampling_rate * sequence_length  # the target is the day after the end of the sequence\n",
        "batch_size = 16"
      ]
    },
    {
      "cell_type": "code",
      "execution_count": 74,
      "metadata": {
        "colab": {
          "base_uri": "https://localhost:8080/"
        },
        "id": "cRDGWNYl_a0Q",
        "outputId": "d0cfebd1-1bd8-46fc-b1ed-15ecdd8b8ce4"
      },
      "outputs": [
        {
          "output_type": "stream",
          "name": "stdout",
          "text": [
            "X shape: (16, 14, 6)\n",
            "target shape: (16, 1)\n"
          ]
        }
      ],
      "source": [
        "train_dataset = keras.utils.timeseries_dataset_from_array(\n",
        "    data[:-delay],\n",
        "    targets=y[delay:],\n",
        "    sampling_rate=sampling_rate, sequence_length=sequence_length,\n",
        "    batch_size=batch_size,\n",
        "    start_index=0, end_index=n_tr  # first 50% for training\n",
        "    )\n",
        "\n",
        "val_dataset = keras.utils.timeseries_dataset_from_array(\n",
        "    data[:-delay],\n",
        "    targets=y[delay:],\n",
        "    sampling_rate=sampling_rate, sequence_length=sequence_length,\n",
        "    batch_size=batch_size,\n",
        "    start_index=n_tr, end_index=n_tr+n_val  # 50%-80% for validation\n",
        "    )\n",
        "\n",
        "test_dataset = keras.utils.timeseries_dataset_from_array(\n",
        "    data[:-delay],\n",
        "    targets=y[delay:],\n",
        "    sampling_rate=sampling_rate, sequence_length=sequence_length,\n",
        "    batch_size=batch_size,\n",
        "    start_index=n_tr+n_val  # last 20% for test\n",
        "    )\n",
        "\n",
        "for X, target in train_dataset:\n",
        "    print(\"X shape:\", X.shape)\n",
        "    print(\"target shape:\", target.shape)\n",
        "    #print(X[:, :, y_idx] * std_tr[y_idx] + mean_tr[y_idx])\n",
        "    #print(target)\n",
        "    break  # so we only print once"
      ]
    },
    {
      "cell_type": "code",
      "source": [
        "# Function to plot history with neural networks\n",
        "def plot_hist_regression(hist, y):\n",
        "  n_ = len(hist.history['mae'])\n",
        "  plt.plot(range(1, n_+1), np.asarray(hist.history['mae']), 'bo', label='MAE on training set')\n",
        "  plt.plot(range(1, n_+1), np.asarray(hist.history['val_mae']), 'b', label='MAE on validation set')\n",
        "  plt.legend()\n",
        "  plt.xlabel(\"Epoch\") \n",
        "  plt.ylabel(\"MAE (degrees)\")\n",
        "  plt.axhline(y=y)\n",
        "  plt.show()\n"
      ],
      "metadata": {
        "id": "u_v2rAW_W4kQ"
      },
      "execution_count": 75,
      "outputs": []
    },
    {
      "cell_type": "markdown",
      "metadata": {
        "id": "WlhjIvZR_a0Q"
      },
      "source": [
        "## Establishing a baseline\n"
      ]
    },
    {
      "cell_type": "markdown",
      "source": [
        "### Common sense, no ML baseline\n",
        "\n",
        "- Sanity check\n",
        "- To establish whether ML methods are actually any good\n",
        "\n",
        "Tomorrow's temperature is likely to be close to today's: let's predict that the temperature 24 hours from now will be equal to the temperature right now.\n",
        "\n",
        "We'll use the MAE as metric"
      ],
      "metadata": {
        "id": "rloJamyvWPWj"
      }
    },
    {
      "cell_type": "code",
      "execution_count": 76,
      "metadata": {
        "colab": {
          "base_uri": "https://localhost:8080/"
        },
        "id": "MUY5acIf_a0Q",
        "outputId": "37096fef-3aa5-478d-9bf4-68b4dc568502"
      },
      "outputs": [
        {
          "output_type": "stream",
          "name": "stdout",
          "text": [
            "MAE on train set = 2.56 (degrees Celsius)\n",
            "MAE on validation set = 2.69 (degrees Celsius)\n",
            "MAE on test set = 2.85 (degrees Celsius)\n"
          ]
        }
      ],
      "source": [
        "def naive_method(dataset, mean, std):\n",
        "    error = 0\n",
        "    samples = 0\n",
        "    count = 0\n",
        "    for X, target in dataset:\n",
        "        pred = X[:, -1, y_idx] * std + mean  # predict last available temperature and un-standardise\n",
        "        #print(X.shape, target.shape, pred.shape)  # [batch_size, sequence_length, n_feats]\n",
        "        #print(X[:, -1, y_idx] * std + mean, target)\n",
        "        error += np.sum(np.abs(pred - target))\n",
        "        samples += X.shape[0]  # batch_size\n",
        "        count += 1\n",
        "    return error / samples / batch_size # average\n",
        "\n",
        "\n",
        "print('MAE on train set = %.2f (degrees Celsius)' % naive_method(train_dataset, mean_tr[y_idx], std_tr[y_idx]))\n",
        "print('MAE on validation set = %.2f (degrees Celsius)' % naive_method(val_dataset, mean_tr[y_idx], std_tr[y_idx]))\n",
        "print('MAE on test set = %.2f (degrees Celsius)' % naive_method(test_dataset, mean_tr[y_idx], std_tr[y_idx]))\n",
        "# Save MAE on validation for later\n",
        "baseline = naive_method(val_dataset, mean_tr[y_idx], std_tr[y_idx])"
      ]
    },
    {
      "cell_type": "markdown",
      "source": [
        "This baseline achieves a validation MAE of 2.69 degrees and a test MAE of 2.85 degrees. So if we assume that tomorrow's temperature will be the same as today's, we'll be off by less than 3 degrees on average.\n",
        "\n",
        "Not too bad, but surely we can do better!"
      ],
      "metadata": {
        "id": "znycUtxiJmAF"
      }
    },
    {
      "cell_type": "markdown",
      "metadata": {
        "id": "7c-duA1Z_a0R"
      },
      "source": [
        "### Simple ML baseline\n",
        "\n",
        "\n"
      ]
    },
    {
      "cell_type": "code",
      "source": [
        "# To get some practice with neural networks, we'll try a 1-layer NN with nothing fancy.\n",
        "\n",
        "model_dense = models.Sequential()\n",
        "model_dense.add(layers.Flatten(input_shape=(sequence_length, len(df.columns)-1)))  # we need to specify the input shape or we won't be able to see the summary\n",
        "model_dense.add(layers.Dense(10, activation='relu'))\n",
        "model_dense.add(layers.Dense(1))\n",
        "\n",
        "model_dense.summary()"
      ],
      "metadata": {
        "colab": {
          "base_uri": "https://localhost:8080/"
        },
        "id": "fWGqpICHJlRe",
        "outputId": "2d68f2b7-3761-4576-93a5-df69b2fd6bfe"
      },
      "execution_count": 77,
      "outputs": [
        {
          "output_type": "stream",
          "name": "stdout",
          "text": [
            "Model: \"sequential_10\"\n",
            "_________________________________________________________________\n",
            " Layer (type)                Output Shape              Param #   \n",
            "=================================================================\n",
            " flatten_2 (Flatten)         (None, 84)                0         \n",
            "                                                                 \n",
            " dense_13 (Dense)            (None, 10)                850       \n",
            "                                                                 \n",
            " dense_14 (Dense)            (None, 1)                 11        \n",
            "                                                                 \n",
            "=================================================================\n",
            "Total params: 861\n",
            "Trainable params: 861\n",
            "Non-trainable params: 0\n",
            "_________________________________________________________________\n"
          ]
        }
      ]
    },
    {
      "cell_type": "code",
      "source": [
        "n_epochs = 20\n",
        "\n",
        "model_dense.compile(optimizer='rmsprop', loss='mse', metrics=['mae'])\n",
        "history_dense = model_dense.fit(train_dataset, epochs=n_epochs, validation_data=val_dataset)"
      ],
      "metadata": {
        "colab": {
          "base_uri": "https://localhost:8080/"
        },
        "id": "p0Hz1rX8LMfT",
        "outputId": "2506568b-134d-4223-8d8f-75fe1627f4c7"
      },
      "execution_count": 78,
      "outputs": [
        {
          "output_type": "stream",
          "name": "stdout",
          "text": [
            "Epoch 1/20\n",
            "80/80 [==============================] - 1s 12ms/step - loss: 141.3425 - mae: 10.8963 - val_loss: 118.3266 - val_mae: 9.9626\n",
            "Epoch 2/20\n",
            "80/80 [==============================] - 1s 10ms/step - loss: 102.5279 - mae: 9.2968 - val_loss: 85.5302 - val_mae: 8.4206\n",
            "Epoch 3/20\n",
            "80/80 [==============================] - 1s 10ms/step - loss: 69.8832 - mae: 7.4949 - val_loss: 58.8068 - val_mae: 6.7259\n",
            "Epoch 4/20\n",
            "80/80 [==============================] - 1s 10ms/step - loss: 47.7710 - mae: 5.8941 - val_loss: 43.8441 - val_mae: 5.5805\n",
            "Epoch 5/20\n",
            "80/80 [==============================] - 1s 10ms/step - loss: 38.4779 - mae: 5.1348 - val_loss: 38.0658 - val_mae: 5.1131\n",
            "Epoch 6/20\n",
            "80/80 [==============================] - 1s 10ms/step - loss: 34.6824 - mae: 4.8443 - val_loss: 34.7646 - val_mae: 4.8330\n",
            "Epoch 7/20\n",
            "80/80 [==============================] - 1s 10ms/step - loss: 32.2077 - mae: 4.6520 - val_loss: 32.3128 - val_mae: 4.6198\n",
            "Epoch 8/20\n",
            "80/80 [==============================] - 1s 10ms/step - loss: 30.3504 - mae: 4.4972 - val_loss: 30.5466 - val_mae: 4.4671\n",
            "Epoch 9/20\n",
            "80/80 [==============================] - 1s 10ms/step - loss: 28.9249 - mae: 4.3765 - val_loss: 29.1641 - val_mae: 4.3469\n",
            "Epoch 10/20\n",
            "80/80 [==============================] - 1s 10ms/step - loss: 27.7414 - mae: 4.2759 - val_loss: 28.0040 - val_mae: 4.2503\n",
            "Epoch 11/20\n",
            "80/80 [==============================] - 1s 10ms/step - loss: 26.6838 - mae: 4.1856 - val_loss: 26.9545 - val_mae: 4.1622\n",
            "Epoch 12/20\n",
            "80/80 [==============================] - 1s 10ms/step - loss: 25.6917 - mae: 4.1008 - val_loss: 25.9573 - val_mae: 4.0785\n",
            "Epoch 13/20\n",
            "80/80 [==============================] - 1s 10ms/step - loss: 24.7280 - mae: 4.0183 - val_loss: 24.9751 - val_mae: 3.9956\n",
            "Epoch 14/20\n",
            "80/80 [==============================] - 1s 10ms/step - loss: 23.7763 - mae: 3.9366 - val_loss: 24.0215 - val_mae: 3.9155\n",
            "Epoch 15/20\n",
            "80/80 [==============================] - 1s 10ms/step - loss: 22.8422 - mae: 3.8560 - val_loss: 23.0654 - val_mae: 3.8369\n",
            "Epoch 16/20\n",
            "80/80 [==============================] - 1s 10ms/step - loss: 21.9021 - mae: 3.7738 - val_loss: 22.1062 - val_mae: 3.7562\n",
            "Epoch 17/20\n",
            "80/80 [==============================] - 1s 10ms/step - loss: 20.9501 - mae: 3.6894 - val_loss: 21.1739 - val_mae: 3.6750\n",
            "Epoch 18/20\n",
            "80/80 [==============================] - 1s 10ms/step - loss: 19.9992 - mae: 3.6032 - val_loss: 20.2302 - val_mae: 3.5911\n",
            "Epoch 19/20\n",
            "80/80 [==============================] - 1s 10ms/step - loss: 19.0282 - mae: 3.5136 - val_loss: 19.2973 - val_mae: 3.5055\n",
            "Epoch 20/20\n",
            "80/80 [==============================] - 1s 10ms/step - loss: 18.0338 - mae: 3.4196 - val_loss: 18.3612 - val_mae: 3.4190\n"
          ]
        }
      ]
    },
    {
      "cell_type": "code",
      "source": [
        "# Plot MAE cures for validation and training\n",
        "plot_hist_regression(history_dense, baseline)"
      ],
      "metadata": {
        "colab": {
          "base_uri": "https://localhost:8080/",
          "height": 0
        },
        "id": "aBRYn-AKMCi4",
        "outputId": "4a848cd1-7a47-47fb-d222-bf75e0aa1564"
      },
      "execution_count": 79,
      "outputs": [
        {
          "output_type": "display_data",
          "data": {
            "text/plain": [
              "<Figure size 432x288 with 1 Axes>"
            ],
            "image/png": "[encoded data removed]"
          },
          "metadata": {
            "needs_background": "light"
          }
        }
      ]
    },
    {
      "cell_type": "markdown",
      "source": [
        "Validation loss is worse than what we had with our common-sense baseline, and we're already overfitting (MAE on training set is lower than on validation set). It turns out our previous baseline is not as easy to outperform as we thought!\n",
        "\n",
        "Remember our 'hypothesis space'? Using 2 Dense layers doesn't seem to be very useful in this case. We need other types of layers for this problem."
      ],
      "metadata": {
        "id": "1EJywOA5NJa9"
      }
    },
    {
      "cell_type": "code",
      "source": [
        "# We know that CNNs take advantage of neighbouring values, so why don't we try that?\n",
        "\n",
        "# In addition to the Conv2D layers we saw last week, there are Conv1D and Conv3D layers. \n",
        "# Conv1D layers rely on 1D windows that slide across an input sequence (imagine a 1D image)\n",
        "\n",
        "model_cnn = models.Sequential()\n",
        "model_cnn.add(layers.Conv1D(8, 7, activation='relu', input_shape=(sequence_length, len(df.columns)-1)))\n",
        "model_cnn.add(layers.MaxPooling1D(2))\n",
        "model_cnn.add(layers.Conv1D(8, 3, activation='relu'))\n",
        "model_cnn.add(layers.MaxPooling1D(2))\n",
        "model_cnn.add(layers.GlobalAveragePooling1D())\n",
        "model_cnn.add(layers.Dense(1))\n",
        "\n",
        "model_cnn.summary()"
      ],
      "metadata": {
        "colab": {
          "base_uri": "https://localhost:8080/"
        },
        "id": "k6PADykQPIjq",
        "outputId": "2dfdce69-e7f8-42bf-d1c6-c28c7a1de670"
      },
      "execution_count": 80,
      "outputs": [
        {
          "output_type": "stream",
          "name": "stdout",
          "text": [
            "Model: \"sequential_11\"\n",
            "_________________________________________________________________\n",
            " Layer (type)                Output Shape              Param #   \n",
            "=================================================================\n",
            " conv1d_2 (Conv1D)           (None, 8, 8)              344       \n",
            "                                                                 \n",
            " max_pooling1d_2 (MaxPooling  (None, 4, 8)             0         \n",
            " 1D)                                                             \n",
            "                                                                 \n",
            " conv1d_3 (Conv1D)           (None, 2, 8)              200       \n",
            "                                                                 \n",
            " max_pooling1d_3 (MaxPooling  (None, 1, 8)             0         \n",
            " 1D)                                                             \n",
            "                                                                 \n",
            " global_average_pooling1d_1   (None, 8)                0         \n",
            " (GlobalAveragePooling1D)                                        \n",
            "                                                                 \n",
            " dense_15 (Dense)            (None, 1)                 9         \n",
            "                                                                 \n",
            "=================================================================\n",
            "Total params: 553\n",
            "Trainable params: 553\n",
            "Non-trainable params: 0\n",
            "_________________________________________________________________\n"
          ]
        }
      ]
    },
    {
      "cell_type": "code",
      "source": [
        "model_cnn.compile(optimizer='rmsprop', loss='mse', metrics=['mae'])\n",
        "history_cnn = model_cnn.fit(train_dataset, epochs=n_epochs,\n",
        "                            validation_data=val_dataset)"
      ],
      "metadata": {
        "colab": {
          "base_uri": "https://localhost:8080/"
        },
        "id": "PSGRJSulQs22",
        "outputId": "c897076c-5870-4049-d7a1-528cab2b1739"
      },
      "execution_count": 81,
      "outputs": [
        {
          "output_type": "stream",
          "name": "stdout",
          "text": [
            "Epoch 1/20\n",
            "80/80 [==============================] - 2s 13ms/step - loss: 147.6680 - mae: 10.8075 - val_loss: 132.4010 - val_mae: 9.8472\n",
            "Epoch 2/20\n",
            "80/80 [==============================] - 1s 12ms/step - loss: 127.2024 - mae: 9.8143 - val_loss: 110.7927 - val_mae: 8.7301\n",
            "Epoch 3/20\n",
            "80/80 [==============================] - 1s 13ms/step - loss: 93.4100 - mae: 8.3021 - val_loss: 74.0750 - val_mae: 7.1196\n",
            "Epoch 4/20\n",
            "80/80 [==============================] - 1s 12ms/step - loss: 45.7239 - mae: 5.7394 - val_loss: 29.6283 - val_mae: 4.4562\n",
            "Epoch 5/20\n",
            "80/80 [==============================] - 1s 15ms/step - loss: 18.2846 - mae: 3.5161 - val_loss: 18.4996 - val_mae: 3.2209\n",
            "Epoch 6/20\n",
            "80/80 [==============================] - 1s 12ms/step - loss: 15.7479 - mae: 3.2072 - val_loss: 17.5907 - val_mae: 3.0952\n",
            "Epoch 7/20\n",
            "80/80 [==============================] - 1s 14ms/step - loss: 14.6133 - mae: 3.0727 - val_loss: 16.8285 - val_mae: 3.0245\n",
            "Epoch 8/20\n",
            "80/80 [==============================] - 1s 14ms/step - loss: 13.7194 - mae: 2.9670 - val_loss: 16.2420 - val_mae: 2.9816\n",
            "Epoch 9/20\n",
            "80/80 [==============================] - 1s 13ms/step - loss: 13.0201 - mae: 2.8848 - val_loss: 15.7599 - val_mae: 2.9477\n",
            "Epoch 10/20\n",
            "80/80 [==============================] - 1s 16ms/step - loss: 12.4722 - mae: 2.8218 - val_loss: 15.3711 - val_mae: 2.9172\n",
            "Epoch 11/20\n",
            "80/80 [==============================] - 1s 12ms/step - loss: 12.0449 - mae: 2.7738 - val_loss: 14.9903 - val_mae: 2.8884\n",
            "Epoch 12/20\n",
            "80/80 [==============================] - 1s 11ms/step - loss: 11.6832 - mae: 2.7318 - val_loss: 14.6776 - val_mae: 2.8638\n",
            "Epoch 13/20\n",
            "80/80 [==============================] - 1s 12ms/step - loss: 11.3741 - mae: 2.6957 - val_loss: 14.3991 - val_mae: 2.8409\n",
            "Epoch 14/20\n",
            "80/80 [==============================] - 1s 12ms/step - loss: 11.1117 - mae: 2.6642 - val_loss: 14.2202 - val_mae: 2.8221\n",
            "Epoch 15/20\n",
            "80/80 [==============================] - 1s 12ms/step - loss: 10.8884 - mae: 2.6362 - val_loss: 14.0567 - val_mae: 2.8054\n",
            "Epoch 16/20\n",
            "80/80 [==============================] - 1s 12ms/step - loss: 10.6887 - mae: 2.6121 - val_loss: 13.9111 - val_mae: 2.7904\n",
            "Epoch 17/20\n",
            "80/80 [==============================] - 1s 12ms/step - loss: 10.4995 - mae: 2.5893 - val_loss: 13.7836 - val_mae: 2.7769\n",
            "Epoch 18/20\n",
            "80/80 [==============================] - 1s 12ms/step - loss: 10.3274 - mae: 2.5686 - val_loss: 13.6388 - val_mae: 2.7638\n",
            "Epoch 19/20\n",
            "80/80 [==============================] - 1s 12ms/step - loss: 10.1665 - mae: 2.5488 - val_loss: 13.5075 - val_mae: 2.7509\n",
            "Epoch 20/20\n",
            "80/80 [==============================] - 1s 12ms/step - loss: 10.0068 - mae: 2.5288 - val_loss: 13.3684 - val_mae: 2.7378\n"
          ]
        }
      ]
    },
    {
      "cell_type": "code",
      "source": [
        "# Plot MAE cures for validation and training\n",
        "plot_hist_regression(history_cnn, baseline)"
      ],
      "metadata": {
        "colab": {
          "base_uri": "https://localhost:8080/",
          "height": 0
        },
        "id": "6bB6lzLYSG-u",
        "outputId": "05cd0aba-c12b-46e6-ef63-b4fb9961f19c"
      },
      "execution_count": 82,
      "outputs": [
        {
          "output_type": "display_data",
          "data": {
            "text/plain": [
              "<Figure size 432x288 with 1 Axes>"
            ],
            "image/png": "[encoded data removed]"
          },
          "metadata": {
            "needs_background": "light"
          }
        }
      ]
    },
    {
      "cell_type": "markdown",
      "source": [
        "This model isn't any better, with a validation MAE of 2.77 degrees (also worse than the 'common-sense approach' that we tried at first), and we're overfitting a bit too.\n",
        "\n",
        "Why?\n",
        "\n",
        "In timeseries, order matters a lot: the recent past is more informative than data from 5 days ago, and convolutional layers don't take advantage of this fact -- max pooling and global average pooling layers actually destroy this order information."
      ],
      "metadata": {
        "id": "Kc2iMPSHViL1"
      }
    },
    {
      "cell_type": "markdown",
      "metadata": {
        "id": "3ozUAZX__a0R"
      },
      "source": [
        "## Long Short Term Memory (LSTM) Neural Networks\n",
        "\n",
        "\n"
      ]
    },
    {
      "cell_type": "code",
      "execution_count": 83,
      "metadata": {
        "id": "2dWfiaUw_a0R",
        "colab": {
          "base_uri": "https://localhost:8080/"
        },
        "outputId": "b28fe48b-fe5a-4d82-c194-78de512f973a"
      },
      "outputs": [
        {
          "output_type": "stream",
          "name": "stdout",
          "text": [
            "Model: \"sequential_12\"\n",
            "_________________________________________________________________\n",
            " Layer (type)                Output Shape              Param #   \n",
            "=================================================================\n",
            " lstm_11 (LSTM)              (None, 20)                2160      \n",
            "                                                                 \n",
            " dense_16 (Dense)            (None, 1)                 21        \n",
            "                                                                 \n",
            "=================================================================\n",
            "Total params: 2,181\n",
            "Trainable params: 2,181\n",
            "Non-trainable params: 0\n",
            "_________________________________________________________________\n"
          ]
        }
      ],
      "source": [
        "# 1-layer LSTM\n",
        "\n",
        "model_lstm1 = models.Sequential()\n",
        "model_lstm1.add(layers.LSTM(20, input_shape=(sequence_length, len(df.columns)-1)))\n",
        "model_lstm1.add(layers.Dense(1))\n",
        "\n",
        "model_lstm1.summary()"
      ]
    },
    {
      "cell_type": "code",
      "source": [
        "n_epochs = 20"
      ],
      "metadata": {
        "id": "DMst2Mp0R0Xi"
      },
      "execution_count": 84,
      "outputs": []
    },
    {
      "cell_type": "code",
      "source": [
        "model_lstm1.compile(optimizer='rmsprop', loss='mse', metrics=['mae'])\n",
        "history_lstm1 = model_lstm1.fit(train_dataset, epochs=n_epochs,\n",
        "                            validation_data=val_dataset)"
      ],
      "metadata": {
        "colab": {
          "base_uri": "https://localhost:8080/"
        },
        "id": "Pff2tZQHXb-z",
        "outputId": "aaa9292a-2c1d-4932-fe80-bc44b4d610ab"
      },
      "execution_count": 85,
      "outputs": [
        {
          "output_type": "stream",
          "name": "stdout",
          "text": [
            "Epoch 1/20\n",
            "80/80 [==============================] - 4s 19ms/step - loss: 141.1685 - mae: 10.6042 - val_loss: 124.1004 - val_mae: 9.7419\n",
            "Epoch 2/20\n",
            "80/80 [==============================] - 1s 13ms/step - loss: 95.4820 - mae: 8.4901 - val_loss: 64.7276 - val_mae: 6.5917\n",
            "Epoch 3/20\n",
            "80/80 [==============================] - 1s 12ms/step - loss: 51.5324 - mae: 5.9638 - val_loss: 41.3525 - val_mae: 5.0532\n",
            "Epoch 4/20\n",
            "80/80 [==============================] - 1s 13ms/step - loss: 35.8727 - mae: 4.9116 - val_loss: 31.8790 - val_mae: 4.4393\n",
            "Epoch 5/20\n",
            "80/80 [==============================] - 1s 13ms/step - loss: 27.4385 - mae: 4.2580 - val_loss: 25.8616 - val_mae: 4.0315\n",
            "Epoch 6/20\n",
            "80/80 [==============================] - 1s 13ms/step - loss: 21.7973 - mae: 3.7828 - val_loss: 21.3699 - val_mae: 3.6710\n",
            "Epoch 7/20\n",
            "80/80 [==============================] - 1s 13ms/step - loss: 17.7974 - mae: 3.4167 - val_loss: 18.0391 - val_mae: 3.3669\n",
            "Epoch 8/20\n",
            "80/80 [==============================] - 1s 13ms/step - loss: 14.7917 - mae: 3.1059 - val_loss: 15.5378 - val_mae: 3.1240\n",
            "Epoch 9/20\n",
            "80/80 [==============================] - 1s 13ms/step - loss: 12.4745 - mae: 2.8362 - val_loss: 13.5510 - val_mae: 2.9247\n",
            "Epoch 10/20\n",
            "80/80 [==============================] - 1s 13ms/step - loss: 10.7205 - mae: 2.6235 - val_loss: 11.9862 - val_mae: 2.7555\n",
            "Epoch 11/20\n",
            "80/80 [==============================] - 1s 13ms/step - loss: 9.4010 - mae: 2.4487 - val_loss: 10.7550 - val_mae: 2.6139\n",
            "Epoch 12/20\n",
            "80/80 [==============================] - 1s 13ms/step - loss: 8.3974 - mae: 2.3092 - val_loss: 9.7967 - val_mae: 2.4996\n",
            "Epoch 13/20\n",
            "80/80 [==============================] - 1s 12ms/step - loss: 7.6388 - mae: 2.2018 - val_loss: 9.0501 - val_mae: 2.4088\n",
            "Epoch 14/20\n",
            "80/80 [==============================] - 1s 13ms/step - loss: 7.0742 - mae: 2.1216 - val_loss: 8.4700 - val_mae: 2.3375\n",
            "Epoch 15/20\n",
            "80/80 [==============================] - 1s 13ms/step - loss: 6.6525 - mae: 2.0591 - val_loss: 8.0130 - val_mae: 2.2816\n",
            "Epoch 16/20\n",
            "80/80 [==============================] - 1s 13ms/step - loss: 6.3275 - mae: 2.0068 - val_loss: 7.6385 - val_mae: 2.2322\n",
            "Epoch 17/20\n",
            "80/80 [==============================] - 1s 13ms/step - loss: 6.0659 - mae: 1.9630 - val_loss: 7.3228 - val_mae: 2.1875\n",
            "Epoch 18/20\n",
            "80/80 [==============================] - 1s 14ms/step - loss: 5.8463 - mae: 1.9252 - val_loss: 7.0518 - val_mae: 2.1470\n",
            "Epoch 19/20\n",
            "80/80 [==============================] - 1s 13ms/step - loss: 5.6562 - mae: 1.8922 - val_loss: 6.8161 - val_mae: 2.1105\n",
            "Epoch 20/20\n",
            "80/80 [==============================] - 1s 14ms/step - loss: 5.4887 - mae: 1.8624 - val_loss: 6.6083 - val_mae: 2.0765\n"
          ]
        }
      ]
    },
    {
      "cell_type": "code",
      "source": [
        "# Plot MAE cures for validation and training\n",
        "plot_hist_regression(history_lstm1, baseline)\n"
      ],
      "metadata": {
        "colab": {
          "base_uri": "https://localhost:8080/",
          "height": 0
        },
        "id": "hr-bgDUvXmvS",
        "outputId": "2337bcc2-32bc-4e2d-fbd1-2ab84f6d4ba9"
      },
      "execution_count": 86,
      "outputs": [
        {
          "output_type": "display_data",
          "data": {
            "text/plain": [
              "<Figure size 432x288 with 1 Axes>"
            ],
            "image/png": "[encoded data removed]"
          },
          "metadata": {
            "needs_background": "light"
          }
        }
      ]
    },
    {
      "cell_type": "code",
      "source": [
        "print('Test MAE = %.2f degrees' % model_lstm1.evaluate(test_dataset)[1])"
      ],
      "metadata": {
        "colab": {
          "base_uri": "https://localhost:8080/"
        },
        "id": "0fFZvXXUcQ67",
        "outputId": "35dca4eb-118c-46d7-833f-c617077f4659"
      },
      "execution_count": 87,
      "outputs": [
        {
          "output_type": "stream",
          "name": "stdout",
          "text": [
            "31/31 [==============================] - 0s 6ms/step - loss: 7.6013 - mae: 2.1634\n",
            "Test MAE = 2.16 degrees\n"
          ]
        }
      ]
    },
    {
      "cell_type": "markdown",
      "source": [
        "Success! We finally beat the common-sense baseline! The validation MAE now is 2.12 degrees, and the test MAE is 2.27.\n",
        "\n",
        "Why do LSTM layers work? Let's go back to the slides"
      ],
      "metadata": {
        "id": "bYSWwI1aXvwL"
      }
    },
    {
      "cell_type": "code",
      "source": [
        "# Adding dropout\n",
        "\n",
        "model_lstm2 = models.Sequential()\n",
        "model_lstm2.add(layers.LSTM(20, input_shape=(sequence_length, len(df.columns)-1), recurrent_dropout=0.25))\n",
        "model_lstm2.add(layers.Dropout(0.4))\n",
        "model_lstm2.add(layers.Dense(1))\n",
        "\n",
        "model_lstm2.summary()"
      ],
      "metadata": {
        "id": "acSYakeOcokB",
        "colab": {
          "base_uri": "https://localhost:8080/"
        },
        "outputId": "d03e69db-de6e-48d9-b94e-e8da205db2e5"
      },
      "execution_count": 88,
      "outputs": [
        {
          "output_type": "stream",
          "name": "stdout",
          "text": [
            "WARNING:tensorflow:Layer lstm_12 will not use cuDNN kernels since it doesn't meet the criteria. It will use a generic GPU kernel as fallback when running on GPU.\n",
            "Model: \"sequential_13\"\n",
            "_________________________________________________________________\n",
            " Layer (type)                Output Shape              Param #   \n",
            "=================================================================\n",
            " lstm_12 (LSTM)              (None, 20)                2160      \n",
            "                                                                 \n",
            " dropout_8 (Dropout)         (None, 20)                0         \n",
            "                                                                 \n",
            " dense_17 (Dense)            (None, 1)                 21        \n",
            "                                                                 \n",
            "=================================================================\n",
            "Total params: 2,181\n",
            "Trainable params: 2,181\n",
            "Non-trainable params: 0\n",
            "_________________________________________________________________\n"
          ]
        }
      ]
    },
    {
      "cell_type": "code",
      "source": [
        "model_lstm2.compile(optimizer='rmsprop', loss='mse', metrics=['mae'])\n",
        "history_lstm2 = model_lstm2.fit(train_dataset, epochs=n_epochs,\n",
        "                            validation_data=val_dataset)"
      ],
      "metadata": {
        "colab": {
          "base_uri": "https://localhost:8080/"
        },
        "id": "LvRnf9TWSWf9",
        "outputId": "dfa10e29-206d-4cf4-e618-1ddd02f864a4"
      },
      "execution_count": 89,
      "outputs": [
        {
          "output_type": "stream",
          "name": "stdout",
          "text": [
            "Epoch 1/20\n",
            "80/80 [==============================] - 10s 91ms/step - loss: 129.0385 - mae: 10.3613 - val_loss: 99.6766 - val_mae: 9.0385\n",
            "Epoch 2/20\n",
            "80/80 [==============================] - 7s 85ms/step - loss: 77.2725 - mae: 7.7564 - val_loss: 54.2865 - val_mae: 6.0532\n",
            "Epoch 3/20\n",
            "80/80 [==============================] - 7s 84ms/step - loss: 46.2221 - mae: 5.5832 - val_loss: 37.7803 - val_mae: 4.8397\n",
            "Epoch 4/20\n",
            "80/80 [==============================] - 7s 84ms/step - loss: 35.3295 - mae: 4.8068 - val_loss: 30.1917 - val_mae: 4.3882\n",
            "Epoch 5/20\n",
            "80/80 [==============================] - 7s 82ms/step - loss: 27.9915 - mae: 4.2737 - val_loss: 24.7394 - val_mae: 3.9726\n",
            "Epoch 6/20\n",
            "80/80 [==============================] - 7s 84ms/step - loss: 23.8025 - mae: 3.9367 - val_loss: 20.6412 - val_mae: 3.6000\n",
            "Epoch 7/20\n",
            "80/80 [==============================] - 7s 85ms/step - loss: 20.7592 - mae: 3.6417 - val_loss: 17.5309 - val_mae: 3.3110\n",
            "Epoch 8/20\n",
            "80/80 [==============================] - 7s 82ms/step - loss: 17.4037 - mae: 3.3151 - val_loss: 15.4701 - val_mae: 3.1239\n",
            "Epoch 9/20\n",
            "80/80 [==============================] - 7s 82ms/step - loss: 16.8449 - mae: 3.2414 - val_loss: 13.5511 - val_mae: 2.9134\n",
            "Epoch 10/20\n",
            "80/80 [==============================] - 7s 84ms/step - loss: 15.9564 - mae: 3.1621 - val_loss: 12.3641 - val_mae: 2.7938\n",
            "Epoch 11/20\n",
            "80/80 [==============================] - 7s 85ms/step - loss: 14.3926 - mae: 2.9720 - val_loss: 11.3117 - val_mae: 2.6743\n",
            "Epoch 12/20\n",
            "80/80 [==============================] - 7s 84ms/step - loss: 13.5956 - mae: 2.9311 - val_loss: 10.6028 - val_mae: 2.5898\n",
            "Epoch 13/20\n",
            "80/80 [==============================] - 7s 83ms/step - loss: 12.5757 - mae: 2.8053 - val_loss: 9.5130 - val_mae: 2.4412\n",
            "Epoch 14/20\n",
            "80/80 [==============================] - 7s 82ms/step - loss: 12.3027 - mae: 2.7926 - val_loss: 9.2300 - val_mae: 2.4174\n",
            "Epoch 15/20\n",
            "80/80 [==============================] - 7s 82ms/step - loss: 11.9735 - mae: 2.7482 - val_loss: 8.7858 - val_mae: 2.3595\n",
            "Epoch 16/20\n",
            "80/80 [==============================] - 7s 82ms/step - loss: 11.4594 - mae: 2.7012 - val_loss: 8.2705 - val_mae: 2.2805\n",
            "Epoch 17/20\n",
            "80/80 [==============================] - 7s 87ms/step - loss: 10.8979 - mae: 2.6442 - val_loss: 7.9045 - val_mae: 2.2357\n",
            "Epoch 18/20\n",
            "80/80 [==============================] - 7s 82ms/step - loss: 11.6094 - mae: 2.6810 - val_loss: 7.8725 - val_mae: 2.2390\n",
            "Epoch 19/20\n",
            "80/80 [==============================] - 7s 82ms/step - loss: 11.4917 - mae: 2.6463 - val_loss: 7.8025 - val_mae: 2.2405\n",
            "Epoch 20/20\n",
            "80/80 [==============================] - 7s 84ms/step - loss: 11.0230 - mae: 2.6289 - val_loss: 7.3274 - val_mae: 2.1621\n"
          ]
        }
      ]
    },
    {
      "cell_type": "code",
      "source": [
        "# Plot MAE cures for validation and training\n",
        "plot_hist_regression(history_lstm2, baseline)"
      ],
      "metadata": {
        "colab": {
          "base_uri": "https://localhost:8080/",
          "height": 0
        },
        "id": "cWpm-j9iSck1",
        "outputId": "f4ea8e1d-ff34-44c0-cbc1-7931b93bfa6d"
      },
      "execution_count": 90,
      "outputs": [
        {
          "output_type": "display_data",
          "data": {
            "text/plain": [
              "<Figure size 432x288 with 1 Axes>"
            ],
            "image/png": "[encoded data removed]"
          },
          "metadata": {
            "needs_background": "light"
          }
        }
      ]
    },
    {
      "cell_type": "code",
      "source": [
        "print('Test MAE = %.2f degrees' % model_lstm2.evaluate(test_dataset)[1])"
      ],
      "metadata": {
        "colab": {
          "base_uri": "https://localhost:8080/"
        },
        "id": "rAIQrQDVSmSM",
        "outputId": "1a60e96b-8fa2-4e23-998c-9d5f49070720"
      },
      "execution_count": 91,
      "outputs": [
        {
          "output_type": "stream",
          "name": "stdout",
          "text": [
            "31/31 [==============================] - 0s 11ms/step - loss: 8.0752 - mae: 2.2169\n",
            "Test MAE = 2.22 degrees\n"
          ]
        }
      ]
    },
    {
      "cell_type": "markdown",
      "source": [
        "Note that validation set MAE is now lower than MAE on training set -- no longer overfitting. Validation MAE is 2.16 and test MAE is also 2.16.\n",
        "\n",
        "NOTE: This is a very simple dataset with very small differences in performance between different models.  You'll just have to take my word for it that *in general* this approach works. "
      ],
      "metadata": {
        "id": "H3OrpvE3S4gM"
      }
    },
    {
      "cell_type": "code",
      "source": [
        "# Performance in the previous figure can (maybe) still be improved\n",
        "# Let's try to add some more layers -- we can do this now that we're no longer overfitting\n",
        "\n",
        "model_lstm3 = models.Sequential()\n",
        "model_lstm3.add(layers.LSTM(20, input_shape=(sequence_length, len(df.columns)-1), recurrent_dropout=0.25, return_sequences=True))  # NEW!\n",
        "model_lstm3.add(layers.LSTM(20, input_shape=(sequence_length, len(df.columns)-1), recurrent_dropout=0.25))  # NEW!!\n",
        "model_lstm3.add(layers.Dropout(0.4))\n",
        "model_lstm3.add(layers.Dense(1))\n",
        "model_lstm3.summary()"
      ],
      "metadata": {
        "colab": {
          "base_uri": "https://localhost:8080/"
        },
        "id": "jq_ZDTttTX6_",
        "outputId": "e60e6ef3-6b08-4995-9dbe-337008fd09dd"
      },
      "execution_count": 92,
      "outputs": [
        {
          "output_type": "stream",
          "name": "stdout",
          "text": [
            "WARNING:tensorflow:Layer lstm_13 will not use cuDNN kernels since it doesn't meet the criteria. It will use a generic GPU kernel as fallback when running on GPU.\n",
            "WARNING:tensorflow:Layer lstm_14 will not use cuDNN kernels since it doesn't meet the criteria. It will use a generic GPU kernel as fallback when running on GPU.\n",
            "Model: \"sequential_14\"\n",
            "_________________________________________________________________\n",
            " Layer (type)                Output Shape              Param #   \n",
            "=================================================================\n",
            " lstm_13 (LSTM)              (None, 14, 20)            2160      \n",
            "                                                                 \n",
            " lstm_14 (LSTM)              (None, 20)                3280      \n",
            "                                                                 \n",
            " dropout_9 (Dropout)         (None, 20)                0         \n",
            "                                                                 \n",
            " dense_18 (Dense)            (None, 1)                 21        \n",
            "                                                                 \n",
            "=================================================================\n",
            "Total params: 5,461\n",
            "Trainable params: 5,461\n",
            "Non-trainable params: 0\n",
            "_________________________________________________________________\n"
          ]
        }
      ]
    },
    {
      "cell_type": "code",
      "source": [
        "model_lstm3.compile(optimizer='rmsprop', loss='mse', metrics=['mae'])\n",
        "\n",
        "callbacks = [EarlyStopping(monitor='val_mae', patience=2)]\n",
        "\n",
        "history_lstm3 = model_lstm3.fit(train_dataset, epochs=60,  # increased number of epochs\n",
        "                            validation_data=val_dataset,\n",
        "                            callbacks=callbacks)  # but added early stopping callback\n"
      ],
      "metadata": {
        "colab": {
          "base_uri": "https://localhost:8080/"
        },
        "id": "9xQXChtNUxzh",
        "outputId": "e0e586b4-f9c5-4c4f-bcbf-ada14a0c856e"
      },
      "execution_count": 93,
      "outputs": [
        {
          "output_type": "stream",
          "name": "stdout",
          "text": [
            "Epoch 1/60\n",
            "80/80 [==============================] - 19s 161ms/step - loss: 118.0032 - mae: 9.7890 - val_loss: 77.5474 - val_mae: 7.5302\n",
            "Epoch 2/60\n",
            "80/80 [==============================] - 13s 157ms/step - loss: 59.2264 - mae: 6.4226 - val_loss: 45.7623 - val_mae: 5.3295\n",
            "Epoch 3/60\n",
            "80/80 [==============================] - 13s 157ms/step - loss: 42.3040 - mae: 5.3214 - val_loss: 35.8159 - val_mae: 4.7383\n",
            "Epoch 4/60\n",
            "80/80 [==============================] - 13s 157ms/step - loss: 33.5753 - mae: 4.6674 - val_loss: 29.2419 - val_mae: 4.2582\n",
            "Epoch 5/60\n",
            "80/80 [==============================] - 13s 157ms/step - loss: 28.2291 - mae: 4.2677 - val_loss: 26.4700 - val_mae: 4.1642\n",
            "Epoch 6/60\n",
            "80/80 [==============================] - 13s 159ms/step - loss: 25.0497 - mae: 4.0140 - val_loss: 21.5859 - val_mae: 3.7192\n",
            "Epoch 7/60\n",
            "80/80 [==============================] - 12s 152ms/step - loss: 20.8179 - mae: 3.6643 - val_loss: 19.4634 - val_mae: 3.5589\n",
            "Epoch 8/60\n",
            "80/80 [==============================] - 12s 149ms/step - loss: 18.5088 - mae: 3.4255 - val_loss: 16.5546 - val_mae: 3.2492\n",
            "Epoch 9/60\n",
            "80/80 [==============================] - 12s 152ms/step - loss: 16.8499 - mae: 3.2599 - val_loss: 15.2404 - val_mae: 3.1342\n",
            "Epoch 10/60\n",
            "80/80 [==============================] - 12s 151ms/step - loss: 16.0591 - mae: 3.1765 - val_loss: 13.4214 - val_mae: 2.9312\n",
            "Epoch 11/60\n",
            "80/80 [==============================] - 12s 150ms/step - loss: 14.7215 - mae: 3.0922 - val_loss: 12.8225 - val_mae: 2.8816\n",
            "Epoch 12/60\n",
            "80/80 [==============================] - 12s 152ms/step - loss: 13.9370 - mae: 2.9335 - val_loss: 11.3348 - val_mae: 2.7027\n",
            "Epoch 13/60\n",
            "80/80 [==============================] - 12s 151ms/step - loss: 13.0611 - mae: 2.8725 - val_loss: 10.9546 - val_mae: 2.6720\n",
            "Epoch 14/60\n",
            "80/80 [==============================] - 12s 152ms/step - loss: 12.0915 - mae: 2.7676 - val_loss: 9.7088 - val_mae: 2.5064\n",
            "Epoch 15/60\n",
            "80/80 [==============================] - 12s 150ms/step - loss: 11.7334 - mae: 2.7424 - val_loss: 9.8421 - val_mae: 2.5368\n",
            "Epoch 16/60\n",
            "80/80 [==============================] - 12s 150ms/step - loss: 12.0369 - mae: 2.7523 - val_loss: 8.9737 - val_mae: 2.4229\n",
            "Epoch 17/60\n",
            "80/80 [==============================] - 12s 151ms/step - loss: 11.4190 - mae: 2.6832 - val_loss: 9.0753 - val_mae: 2.4426\n",
            "Epoch 18/60\n",
            "80/80 [==============================] - 12s 149ms/step - loss: 11.1432 - mae: 2.6121 - val_loss: 9.0708 - val_mae: 2.4441\n"
          ]
        }
      ]
    },
    {
      "cell_type": "code",
      "source": [
        "# Plot MAE cures for validation and training\n",
        "plot_hist_regression(history_lstm3, baseline)\n",
        "print('Test MAE = %.2f degrees' % model_lstm3.evaluate(test_dataset)[1])"
      ],
      "metadata": {
        "colab": {
          "base_uri": "https://localhost:8080/",
          "height": 0
        },
        "id": "PtFfB3YaU4k3",
        "outputId": "f4b8125b-7cd0-402c-919a-542a3b6d8176"
      },
      "execution_count": 94,
      "outputs": [
        {
          "output_type": "display_data",
          "data": {
            "text/plain": [
              "<Figure size 432x288 with 1 Axes>"
            ],
            "image/png": "[encoded data removed]"
          },
          "metadata": {
            "needs_background": "light"
          }
        },
        {
          "output_type": "stream",
          "name": "stdout",
          "text": [
            "31/31 [==============================] - 1s 17ms/step - loss: 9.3811 - mae: 2.4118\n",
            "Test MAE = 2.41 degrees\n"
          ]
        }
      ]
    },
    {
      "cell_type": "markdown",
      "source": [
        "Validation MAE = 1.92 degrees\n",
        "\n",
        "Test MAE = 1.89 degrees\n"
      ],
      "metadata": {
        "id": "eUJqRqp1XJnL"
      }
    },
    {
      "cell_type": "markdown",
      "source": [
        "# Text"
      ],
      "metadata": {
        "id": "zGEuNqw2csXj"
      }
    },
    {
      "cell_type": "markdown",
      "source": [
        "## Data prep\n",
        "\n",
        "We'll try to predict whether the review for a movie is positive or negative looking only at the text of the review.\n",
        "\n",
        "We'll use the IMDB text dataset for this task, which is available on `keras.datasets` and described [here](https://keras.io/api/datasets/imdb/). \n",
        "\n",
        "We'll merge the training and test sets and use 60% for training, 20% for validation, and 20% for testing.\n",
        "\n",
        "\n",
        "As this is a binary classificationp problem, we'll use the binary cross entropy loss function. We will keep track of accuracy when training and evaluating the model.\n"
      ],
      "metadata": {
        "id": "dtv0EjsTbwvm"
      }
    },
    {
      "cell_type": "code",
      "source": [
        "def plot_hist_classif(hist):\n",
        "  n_ = len(hist.history['accuracy'])\n",
        "  plt.plot(range(1, n_+1), 100*np.asarray(hist.history['accuracy']), 'bo', label='Accuracy on training set')\n",
        "  plt.plot(range(1, n_+1), 100*np.asarray(hist.history['val_accuracy']), 'b', label='Accuracy on validation set')\n",
        "  plt.legend()\n",
        "  plt.xlabel(\"Epoch\") \n",
        "  plt.ylabel(\"Accuracy\")\n",
        "  plt.ylim(0, 100)\n",
        "  plt.axhline(y=50)\n",
        "  plt.show()\n"
      ],
      "metadata": {
        "id": "i-mH-8IGwGo1"
      },
      "execution_count": 95,
      "outputs": []
    },
    {
      "cell_type": "code",
      "source": [
        "max_features = 15000  # only consider the top 15k words\n",
        "maxlen = 500  # first 500 words of each review\n",
        "batch_size = 32\n",
        "\n",
        "print('Loading data...')\n",
        "# Load dataset\n",
        "(x_train, y_train), (x_test, y_test) = keras.datasets.imdb.load_data(num_words=max_features)\n",
        "print(len(x_train), 'train sequences', x_train.shape)\n",
        "print(len(x_test), 'test sequences', x_test.shape)"
      ],
      "metadata": {
        "colab": {
          "base_uri": "https://localhost:8080/"
        },
        "id": "4TW3Vg49n5V-",
        "outputId": "10defc09-f960-41bd-b682-fe5aafabb370"
      },
      "execution_count": 96,
      "outputs": [
        {
          "output_type": "stream",
          "name": "stdout",
          "text": [
            "Loading data...\n",
            "25000 train sequences (25000,)\n",
            "25000 test sequences (25000,)\n"
          ]
        }
      ]
    },
    {
      "cell_type": "code",
      "source": [
        "# How balanced is this dataset?\n",
        "print(np.sum(y_train)/len(y_train))\n",
        "print(np.sum(y_test)/len(y_test))"
      ],
      "metadata": {
        "colab": {
          "base_uri": "https://localhost:8080/"
        },
        "id": "8ApTb-jYtSOm",
        "outputId": "293a0545-92b9-45db-ba55-8e07ac2d6e17"
      },
      "execution_count": 97,
      "outputs": [
        {
          "output_type": "stream",
          "name": "stdout",
          "text": [
            "0.5\n",
            "0.5\n"
          ]
        }
      ]
    },
    {
      "cell_type": "code",
      "source": [
        "# Merge the two datasets and divide: 60% for training, 20% validation, 20% test\n",
        "x_, y_ = np.concatenate((x_train, x_test)), np.concatenate((y_train, y_test))\n",
        "print(x_.shape, y_.shape)\n",
        "x_train, x_test, y_train, y_test = train_test_split(x_, y_, test_size=0.4, random_state=10)  # 60/40 split\n",
        "x_val, x_test, y_val, y_test = train_test_split(x_test, y_test, test_size=0.5, random_state=10)  # 50/50 split\n",
        "print(len(x_train), 'train sequences', x_train.shape)\n",
        "print(len(x_val), 'validation sequences', x_val.shape)\n",
        "print(len(x_test), 'test sequences', x_test.shape)"
      ],
      "metadata": {
        "colab": {
          "base_uri": "https://localhost:8080/"
        },
        "id": "Z53Fbicqr8tm",
        "outputId": "962cd4c2-3f21-4bc7-a1ff-a22931fec79f"
      },
      "execution_count": 98,
      "outputs": [
        {
          "output_type": "stream",
          "name": "stdout",
          "text": [
            "(50000,) (50000,)\n",
            "30000 train sequences (30000,)\n",
            "10000 validation sequences (10000,)\n",
            "10000 test sequences (10000,)\n"
          ]
        }
      ]
    },
    {
      "cell_type": "code",
      "source": [
        "x_train[0][:10]  # numbers!!"
      ],
      "metadata": {
        "colab": {
          "base_uri": "https://localhost:8080/"
        },
        "id": "5v_Hy-r8o8pR",
        "outputId": "03f0cc87-512f-4c66-e1e8-bd5946745b3c"
      },
      "execution_count": 99,
      "outputs": [
        {
          "output_type": "execute_result",
          "data": {
            "text/plain": [
              "[1, 11531, 186, 8, 28, 6, 6482, 7, 269, 4042]"
            ]
          },
          "metadata": {},
          "execution_count": 99
        }
      ]
    },
    {
      "cell_type": "code",
      "source": [
        "# We can explore what one of the reviews looks like at this point.\n",
        "\n",
        "# Retrieve the word index file that maps words to indices\n",
        "word_index = keras.datasets.imdb.get_word_index()\n",
        "# Reverse the word index to obtain a dict mapping indices to words (which is what we have)\n",
        "inverted_word_index = dict((i, word) for (word, i) in word_index.items())\n",
        "# Decode the first sequence in the dataset\n",
        "decoded_sequence = \" \".join(inverted_word_index[i] for i in x_train[0])\n",
        "decoded_sequence"
      ],
      "metadata": {
        "colab": {
          "base_uri": "https://localhost:8080/",
          "height": 53
        },
        "id": "rgEgNSLBpFwh",
        "outputId": "2b407fd3-40c1-4207-d12e-e94dd9b8dee4"
      },
      "execution_count": 100,
      "outputs": [
        {
          "output_type": "execute_result",
          "data": {
            "text/plain": [
              "\"the lilly horror in one is fatale br looks meaningless in bronson be showing as you debut film ample to and ingredients zombi ample they for series and thought she's all manipulate and believing in j show look early last quote desire tight interesting that's kind out is far shelter but of frame br and\""
            ],
            "application/vnd.google.colaboratory.intrinsic+json": {
              "type": "string"
            }
          },
          "metadata": {},
          "execution_count": 100
        }
      ]
    },
    {
      "cell_type": "code",
      "source": [
        "# Let's ensure all sequences have the same length through padding\n",
        "# - shorter reviews are padded with 0's\n",
        "# - longer reviews are cut\n",
        "print('Pad sequences')\n",
        "x_train = keras.preprocessing.sequence.pad_sequences(x_train, maxlen=maxlen)\n",
        "x_val = keras.preprocessing.sequence.pad_sequences(x_val, maxlen=maxlen)\n",
        "x_test = keras.preprocessing.sequence.pad_sequences(x_test, maxlen=maxlen)\n",
        "print('x_train shape:', x_train.shape)\n",
        "print('x_val shape:', x_val.shape)\n",
        "print('x_test shape:', x_test.shape)"
      ],
      "metadata": {
        "colab": {
          "base_uri": "https://localhost:8080/"
        },
        "id": "ibmO0V-gcthG",
        "outputId": "00deb4a0-4190-4d1c-f731-2ef0a04b9e4f"
      },
      "execution_count": 101,
      "outputs": [
        {
          "output_type": "stream",
          "name": "stdout",
          "text": [
            "Pad sequences\n",
            "x_train shape: (30000, 500)\n",
            "x_val shape: (10000, 500)\n",
            "x_test shape: (10000, 500)\n"
          ]
        }
      ]
    },
    {
      "cell_type": "code",
      "source": [
        "# Basic feedforward model\n",
        "model = models.Sequential()\n",
        "model.add(layers.Embedding(max_features, 128, input_length=maxlen))\n",
        "model.add(layers.Dense(64, activation='relu'))\n",
        "model.add(layers.Dropout(0.5))\n",
        "model.add(layers.Dense(64, activation='relu'))\n",
        "model.add(layers.Dropout(0.5))\n",
        "model.add(layers.Flatten())\n",
        "model.add(layers.Dense(1, activation=\"sigmoid\"))\n",
        "model.summary()"
      ],
      "metadata": {
        "colab": {
          "base_uri": "https://localhost:8080/"
        },
        "id": "sBpQpwBAk44H",
        "outputId": "4a22b0f4-7bf9-4a41-c3af-eb66ecc77e60"
      },
      "execution_count": 102,
      "outputs": [
        {
          "output_type": "stream",
          "name": "stdout",
          "text": [
            "Model: \"sequential_15\"\n",
            "_________________________________________________________________\n",
            " Layer (type)                Output Shape              Param #   \n",
            "=================================================================\n",
            " embedding_5 (Embedding)     (None, 500, 128)          1920000   \n",
            "                                                                 \n",
            " dense_19 (Dense)            (None, 500, 64)           8256      \n",
            "                                                                 \n",
            " dropout_10 (Dropout)        (None, 500, 64)           0         \n",
            "                                                                 \n",
            " dense_20 (Dense)            (None, 500, 64)           4160      \n",
            "                                                                 \n",
            " dropout_11 (Dropout)        (None, 500, 64)           0         \n",
            "                                                                 \n",
            " flatten_3 (Flatten)         (None, 32000)             0         \n",
            "                                                                 \n",
            " dense_21 (Dense)            (None, 1)                 32001     \n",
            "                                                                 \n",
            "=================================================================\n",
            "Total params: 1,964,417\n",
            "Trainable params: 1,964,417\n",
            "Non-trainable params: 0\n",
            "_________________________________________________________________\n"
          ]
        }
      ]
    },
    {
      "cell_type": "code",
      "source": [
        "model.compile(optimizer=\"rmsprop\", loss=\"binary_crossentropy\", metrics=[\"accuracy\"])\n",
        "history = model.fit(x_train, y_train, batch_size=batch_size, epochs=20, validation_data=(x_val, y_val))"
      ],
      "metadata": {
        "colab": {
          "base_uri": "https://localhost:8080/"
        },
        "id": "-8c7tCS5vrC3",
        "outputId": "cb81935c-c50e-4ebd-d2e4-d59806930741"
      },
      "execution_count": 103,
      "outputs": [
        {
          "output_type": "stream",
          "name": "stdout",
          "text": [
            "Epoch 1/20\n",
            "938/938 [==============================] - 12s 12ms/step - loss: 0.4663 - accuracy: 0.7405 - val_loss: 0.2620 - val_accuracy: 0.8921\n",
            "Epoch 2/20\n",
            "938/938 [==============================] - 11s 11ms/step - loss: 0.2506 - accuracy: 0.8996 - val_loss: 0.2617 - val_accuracy: 0.8950\n",
            "Epoch 3/20\n",
            "938/938 [==============================] - 11s 11ms/step - loss: 0.2104 - accuracy: 0.9185 - val_loss: 0.3035 - val_accuracy: 0.8790\n",
            "Epoch 4/20\n",
            "938/938 [==============================] - 11s 11ms/step - loss: 0.1899 - accuracy: 0.9264 - val_loss: 0.3480 - val_accuracy: 0.8712\n",
            "Epoch 5/20\n",
            "938/938 [==============================] - 10s 11ms/step - loss: 0.1793 - accuracy: 0.9316 - val_loss: 0.2775 - val_accuracy: 0.8960\n",
            "Epoch 6/20\n",
            "938/938 [==============================] - 10s 11ms/step - loss: 0.1673 - accuracy: 0.9367 - val_loss: 0.2695 - val_accuracy: 0.8981\n",
            "Epoch 7/20\n",
            "938/938 [==============================] - 10s 11ms/step - loss: 0.1596 - accuracy: 0.9401 - val_loss: 0.2862 - val_accuracy: 0.8893\n",
            "Epoch 8/20\n",
            "938/938 [==============================] - 10s 11ms/step - loss: 0.1500 - accuracy: 0.9447 - val_loss: 0.2956 - val_accuracy: 0.8924\n",
            "Epoch 9/20\n",
            "938/938 [==============================] - 10s 11ms/step - loss: 0.1456 - accuracy: 0.9449 - val_loss: 0.3089 - val_accuracy: 0.8852\n",
            "Epoch 10/20\n",
            "938/938 [==============================] - 10s 11ms/step - loss: 0.1380 - accuracy: 0.9485 - val_loss: 0.3282 - val_accuracy: 0.8816\n",
            "Epoch 11/20\n",
            "938/938 [==============================] - 10s 11ms/step - loss: 0.1306 - accuracy: 0.9509 - val_loss: 0.2932 - val_accuracy: 0.8936\n",
            "Epoch 12/20\n",
            "938/938 [==============================] - 10s 11ms/step - loss: 0.1245 - accuracy: 0.9541 - val_loss: 0.3365 - val_accuracy: 0.8797\n",
            "Epoch 13/20\n",
            "938/938 [==============================] - 10s 11ms/step - loss: 0.1176 - accuracy: 0.9563 - val_loss: 0.3472 - val_accuracy: 0.8809\n",
            "Epoch 14/20\n",
            "938/938 [==============================] - 10s 11ms/step - loss: 0.1095 - accuracy: 0.9595 - val_loss: 0.3826 - val_accuracy: 0.8727\n",
            "Epoch 15/20\n",
            "938/938 [==============================] - 10s 11ms/step - loss: 0.1070 - accuracy: 0.9607 - val_loss: 0.4666 - val_accuracy: 0.8597\n",
            "Epoch 16/20\n",
            "938/938 [==============================] - 10s 11ms/step - loss: 0.1029 - accuracy: 0.9631 - val_loss: 0.4280 - val_accuracy: 0.8728\n",
            "Epoch 17/20\n",
            "938/938 [==============================] - 10s 11ms/step - loss: 0.0958 - accuracy: 0.9660 - val_loss: 0.3711 - val_accuracy: 0.8808\n",
            "Epoch 18/20\n",
            "938/938 [==============================] - 10s 11ms/step - loss: 0.0909 - accuracy: 0.9680 - val_loss: 0.3860 - val_accuracy: 0.8791\n",
            "Epoch 19/20\n",
            "938/938 [==============================] - 10s 11ms/step - loss: 0.0892 - accuracy: 0.9683 - val_loss: 0.4532 - val_accuracy: 0.8754\n",
            "Epoch 20/20\n",
            "938/938 [==============================] - 10s 11ms/step - loss: 0.0880 - accuracy: 0.9687 - val_loss: 0.4828 - val_accuracy: 0.8727\n"
          ]
        }
      ]
    },
    {
      "cell_type": "code",
      "source": [
        "plot_hist_classif(history)\n",
        "print('Test Accuracy = %.2f' % model.evaluate(x_test, y_test)[1])  # overfitting!"
      ],
      "metadata": {
        "colab": {
          "base_uri": "https://localhost:8080/",
          "height": 317
        },
        "id": "dKBVw5mHv_oX",
        "outputId": "d0bb2fa0-973a-47ab-f341-8c60eb7dc1f0"
      },
      "execution_count": 104,
      "outputs": [
        {
          "output_type": "display_data",
          "data": {
            "text/plain": [
              "<Figure size 432x288 with 1 Axes>"
            ],
            "image/png": "[encoded data removed]"
          },
          "metadata": {
            "needs_background": "light"
          }
        },
        {
          "output_type": "stream",
          "name": "stdout",
          "text": [
            "313/313 [==============================] - 1s 4ms/step - loss: 0.4867 - accuracy: 0.8714\n",
            "Test Accuracy = 0.87\n"
          ]
        }
      ]
    },
    {
      "cell_type": "code",
      "source": [
        "# Let's try an RNN\n",
        "model = models.Sequential()\n",
        "model.add(layers.Embedding(max_features, 64))\n",
        "model.add(layers.LSTM(128, return_sequences=False))\n",
        "model.add(layers.Dropout(0.5))\n",
        "model.add(layers.Dense(1, activation=\"sigmoid\"))\n",
        "model.compile(optimizer=\"rmsprop\", loss=\"binary_crossentropy\", metrics=[\"accuracy\"])\n",
        "model.summary()"
      ],
      "metadata": {
        "colab": {
          "base_uri": "https://localhost:8080/"
        },
        "id": "Ieh7Wl9Pwh8V",
        "outputId": "899be49d-fa62-448b-bb20-5dfe767edb8c"
      },
      "execution_count": 105,
      "outputs": [
        {
          "output_type": "stream",
          "name": "stdout",
          "text": [
            "Model: \"sequential_16\"\n",
            "_________________________________________________________________\n",
            " Layer (type)                Output Shape              Param #   \n",
            "=================================================================\n",
            " embedding_6 (Embedding)     (None, None, 64)          960000    \n",
            "                                                                 \n",
            " lstm_15 (LSTM)              (None, 128)               98816     \n",
            "                                                                 \n",
            " dropout_12 (Dropout)        (None, 128)               0         \n",
            "                                                                 \n",
            " dense_22 (Dense)            (None, 1)                 129       \n",
            "                                                                 \n",
            "=================================================================\n",
            "Total params: 1,058,945\n",
            "Trainable params: 1,058,945\n",
            "Non-trainable params: 0\n",
            "_________________________________________________________________\n"
          ]
        }
      ]
    },
    {
      "cell_type": "code",
      "source": [
        "# This model will take a long time to train, so we add an early stopping criterion\n",
        "# N.B: It's actually much faster to train WITHOUT A GPU!!\n",
        "callbacks = [EarlyStopping(monitor='val_accuracy', patience=2)]\n",
        "history = model.fit(x_train, y_train, batch_size=batch_size, epochs=20, validation_data=(x_val, y_val), callbacks=callbacks)\n",
        "plot_hist_classif(history)\n",
        "print('Test Accuracy = %.2f' % model.evaluate(x_test, y_test)[1])\n",
        "# Note that we're still overfitting, but this is just an example of use"
      ],
      "metadata": {
        "colab": {
          "base_uri": "https://localhost:8080/",
          "height": 526
        },
        "id": "Sd54xZMmxKBQ",
        "outputId": "c2d4b5db-d788-4676-f75d-3ea80f9da10e"
      },
      "execution_count": 106,
      "outputs": [
        {
          "output_type": "stream",
          "name": "stdout",
          "text": [
            "Epoch 1/20\n",
            "938/938 [==============================] - 90s 93ms/step - loss: 0.4292 - accuracy: 0.8076 - val_loss: 0.2827 - val_accuracy: 0.8863\n",
            "Epoch 2/20\n",
            "938/938 [==============================] - 86s 92ms/step - loss: 0.2826 - accuracy: 0.8892 - val_loss: 0.2775 - val_accuracy: 0.8838\n",
            "Epoch 3/20\n",
            "938/938 [==============================] - 86s 91ms/step - loss: 0.2408 - accuracy: 0.9088 - val_loss: 0.2861 - val_accuracy: 0.8886\n",
            "Epoch 4/20\n",
            "938/938 [==============================] - 85s 91ms/step - loss: 0.2092 - accuracy: 0.9224 - val_loss: 0.2620 - val_accuracy: 0.8994\n",
            "Epoch 5/20\n",
            "938/938 [==============================] - 85s 91ms/step - loss: 0.1871 - accuracy: 0.9339 - val_loss: 0.2910 - val_accuracy: 0.8915\n",
            "Epoch 6/20\n",
            "938/938 [==============================] - 85s 91ms/step - loss: 0.1716 - accuracy: 0.9388 - val_loss: 0.2858 - val_accuracy: 0.8808\n"
          ]
        },
        {
          "output_type": "display_data",
          "data": {
            "text/plain": [
              "<Figure size 432x288 with 1 Axes>"
            ],
            "image/png": "[encoded data removed]"
          },
          "metadata": {
            "needs_background": "light"
          }
        },
        {
          "output_type": "stream",
          "name": "stdout",
          "text": [
            "313/313 [==============================] - 11s 36ms/step - loss: 0.2838 - accuracy: 0.8815\n",
            "Test Accuracy = 0.88\n"
          ]
        }
      ]
    },
    {
      "cell_type": "markdown",
      "source": [
        "## Your turn!\n",
        "\n",
        "Implement a bidirectional RNN that can outperform the LSTM model we had above.\n",
        "\n",
        "A starting skeleton could be:\n",
        " \n",
        "*   Embedding layer with an output dimension of 64\n",
        "*   Bidirectional layer with a 32-neuron LSTM layer\n",
        "*   Dense layer with 1 neuron and a sigmoid activation\n",
        "\n",
        "Some suggestions:\n",
        "\n",
        "- Change the sizes of the layers (i.e., the numbers of neurons)\n",
        "- Add dropout\n",
        "- Add other recurrent and/or bidirectional layers\n",
        "\n",
        "Once you have a model that scores over 90% on the validation set, check its performance on the test set and upload it on the code checker in Moodle.\n",
        "\n",
        "Note that the model I'm suggesting above will be able to reach the desired performance, but it will show signs of overfitting. Can you do it by adding regularization (dropout, smaller network) so you don't overfit?\n"
      ],
      "metadata": {
        "id": "kzZhXm5gkz_g"
      }
    },
    {
      "cell_type": "code",
      "source": [
        "n_ = 10  # number of epochs. You can edit this\n",
        "\n",
        "model = models.Sequential()\n",
        "# YOUR CODE HERE!\n",
        "model.add(layers.Embedding(15000, 64))\n",
        "model.add(layers.Bidirectional(layers.LSTM(16, return_sequences=True)))\n",
        "\n",
        "model.add(layers.Bidirectional(layers.LSTM(18)))\n",
        "model.add(layers.Dropout(0.5))\n",
        "model.add(layers.Dense(1, activation='sigmoid'))\n",
        "\n",
        "# I DON'T RECOMMEND THAT YOU CHANGE CODE AFTER THIS POINT\n",
        "model.compile(optimizer=\"rmsprop\", loss=\"binary_crossentropy\", metrics=[\"accuracy\"])\n",
        "\n",
        "print(model.summary())\n",
        "\n",
        "# This model will take a long time to train, so we add an early stopping criterion\n",
        "# I've also added a ModelCheckpoint that will save the best model according to val_accuracy regardless of whether we continue training\n",
        "callbacks = [EarlyStopping(monitor='val_accuracy', patience=1),\n",
        "             ModelCheckpoint(\"model.keras\", save_best_only=True, monitor=\"val_accuracy\", mode='max')]\n",
        "\n",
        "history = model.fit(x_train, y_train, batch_size=batch_size, epochs=n_, \n",
        "                    validation_data=(x_val, y_val), \n",
        "                    callbacks=callbacks)\n",
        "plot_hist_classif(history)\n",
        "model = keras.models.load_model(\"model.keras\")\n",
        "print('Test Accuracy = %.2f' % model.evaluate(x_test, y_test)[1])"
      ],
      "metadata": {
        "id": "jCHOC7dyadaj",
        "colab": {
          "base_uri": "https://localhost:8080/",
          "height": 838
        },
        "outputId": "87c93fc3-be8b-4510-f5c9-ba2dec63bd11"
      },
      "execution_count": 107,
      "outputs": [
        {
          "output_type": "stream",
          "name": "stdout",
          "text": [
            "Model: \"sequential_17\"\n",
            "_________________________________________________________________\n",
            " Layer (type)                Output Shape              Param #   \n",
            "=================================================================\n",
            " embedding_7 (Embedding)     (None, None, 64)          960000    \n",
            "                                                                 \n",
            " bidirectional_6 (Bidirectio  (None, None, 32)         10368     \n",
            " nal)                                                            \n",
            "                                                                 \n",
            " bidirectional_7 (Bidirectio  (None, 36)               7344      \n",
            " nal)                                                            \n",
            "                                                                 \n",
            " dropout_13 (Dropout)        (None, 36)                0         \n",
            "                                                                 \n",
            " dense_23 (Dense)            (None, 1)                 37        \n",
            "                                                                 \n",
            "=================================================================\n",
            "Total params: 977,749\n",
            "Trainable params: 977,749\n",
            "Non-trainable params: 0\n",
            "_________________________________________________________________\n",
            "None\n",
            "Epoch 1/10\n",
            "938/938 [==============================] - 402s 421ms/step - loss: 0.4220 - accuracy: 0.8128 - val_loss: 0.3045 - val_accuracy: 0.8746\n",
            "Epoch 2/10\n",
            "938/938 [==============================] - 392s 418ms/step - loss: 0.2630 - accuracy: 0.9018 - val_loss: 0.2800 - val_accuracy: 0.8901\n",
            "Epoch 3/10\n",
            "938/938 [==============================] - 391s 417ms/step - loss: 0.2145 - accuracy: 0.9226 - val_loss: 0.2614 - val_accuracy: 0.8991\n",
            "Epoch 4/10\n",
            "938/938 [==============================] - 392s 418ms/step - loss: 0.1840 - accuracy: 0.9362 - val_loss: 0.3306 - val_accuracy: 0.8880\n"
          ]
        },
        {
          "output_type": "display_data",
          "data": {
            "text/plain": [
              "<Figure size 432x288 with 1 Axes>"
            ],
            "image/png": "[encoded data removed]"
          },
          "metadata": {
            "needs_background": "light"
          }
        },
        {
          "output_type": "stream",
          "name": "stdout",
          "text": [
            "313/313 [==============================] - 54s 166ms/step - loss: 0.2578 - accuracy: 0.8986\n",
            "Test Accuracy = 0.90\n"
          ]
        }
      ]
    },
    {
      "cell_type": "code",
      "source": [
        "if model.count_params() > 1000000:\n",
        "    print(\"Due to memory constraints on Moodle, the lab quiz has a 10MB limit on your model size, so you need to use a smaller model to validate through the auto-marker.\")\n",
        "\n",
        "if history.history[\"val_accuracy\"][-1] > 0.88:\n",
        "    print(\"Your model is accurate enough!\")\n",
        "\n",
        "else:\n",
        "    print(\"Accuracy is below the threshold!\")\n",
        "    raise Exception(\"Your model isn't accurate enough to pass the progress checker!\")\n",
        "# Save the model into a local folder\n",
        "keras.models.save_model(model, \"Model.h5\",save_format='h5')\n",
        "print('Model saved! You can now upload it to the lab quiz.')"
      ],
      "metadata": {
        "id": "ZFBmg66_CR7y",
        "colab": {
          "base_uri": "https://localhost:8080/"
        },
        "outputId": "bd3b0769-fdf2-436d-d203-fee81a88edc8"
      },
      "execution_count": 112,
      "outputs": [
        {
          "output_type": "stream",
          "name": "stdout",
          "text": [
            "Your model is accurate enough!\n",
            "Model saved! You can now upload it to the lab quiz.\n"
          ]
        }
      ]
    },
    {
      "cell_type": "code",
      "source": [
        ""
      ],
      "metadata": {
        "id": "hv7PyBQQsXav"
      },
      "execution_count": null,
      "outputs": []
    }
  ],
  "metadata": {
    "kernelspec": {
      "display_name": "Python 3",
      "language": "python",
      "name": "python3"
    },
    "language_info": {
      "codemirror_mode": {
        "name": "ipython",
        "version": 3
      },
      "file_extension": ".py",
      "mimetype": "text/x-python",
      "name": "python",
      "nbconvert_exporter": "python",
      "pygments_lexer": "ipython3",
      "version": "3.7.10"
    },
    "colab": {
      "name": "Lab8_rnn_v1.ipynb",
      "provenance": [],
      "collapsed_sections": [
        "WlhjIvZR_a0Q",
        "rloJamyvWPWj",
        "7c-duA1Z_a0R",
        "3ozUAZX__a0R"
      ],
      "include_colab_link": true
    },
    "accelerator": "GPU"
  },
  "nbformat": 4,
  "nbformat_minor": 0
}